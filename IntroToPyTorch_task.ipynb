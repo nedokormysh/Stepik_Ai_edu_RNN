{
  "cells": [
    {
      "cell_type": "markdown",
      "metadata": {
        "id": "view-in-github",
        "colab_type": "text"
      },
      "source": [
        "<a href=\"https://colab.research.google.com/github/nedokormysh/Stepik_Ai_edu_RNN/blob/week_4_PyTorch/IntroToPyTorch_task.ipynb\" target=\"_parent\"><img src=\"https://colab.research.google.com/assets/colab-badge.svg\" alt=\"Open In Colab\"/></a>"
      ]
    },
    {
      "cell_type": "markdown",
      "source": [
        "# Знакомство с PyTorch"
      ],
      "metadata": {
        "id": "r_a9kwC_ISKE"
      }
    },
    {
      "cell_type": "markdown",
      "metadata": {
        "id": "i1hv5i-PkRLO"
      },
      "source": [
        "Сейчас мы познакомимся с библиотекой *PyTorch*. Он очень похож на *NumPy*, и сейчас вы в этом убедитесь!"
      ]
    },
    {
      "cell_type": "markdown",
      "source": [
        "## Вспоминаем *NumPy* и сравниваем операции в *PyTorch*"
      ],
      "metadata": {
        "id": "A7GbQRcUIkT4"
      }
    },
    {
      "cell_type": "markdown",
      "metadata": {
        "id": "9Y0oUAuhkRLX"
      },
      "source": [
        "Мы можем создавать матрицы, перемножать их, складывать, транспонировать и в целом совершать любые матричные операции"
      ]
    },
    {
      "cell_type": "code",
      "execution_count": 1,
      "metadata": {
        "id": "3m6fDtKlkRLZ"
      },
      "outputs": [],
      "source": [
        "import numpy as np\n",
        "import torch\n",
        "import matplotlib.pyplot as plt"
      ]
    },
    {
      "cell_type": "code",
      "execution_count": 2,
      "metadata": {
        "colab": {
          "base_uri": "https://localhost:8080/"
        },
        "id": "nKJ_eIf9kRLc",
        "outputId": "5536effd-9106-4a7b-8e65-816eb5cbcb53"
      },
      "outputs": [
        {
          "output_type": "execute_result",
          "data": {
            "text/plain": [
              "array([[0.37454012, 0.95071431, 0.73199394],\n",
              "       [0.59865848, 0.15601864, 0.15599452],\n",
              "       [0.05808361, 0.86617615, 0.60111501],\n",
              "       [0.70807258, 0.02058449, 0.96990985],\n",
              "       [0.83244264, 0.21233911, 0.18182497]])"
            ]
          },
          "metadata": {},
          "execution_count": 2
        }
      ],
      "source": [
        "np.random.seed(42)\n",
        "\n",
        "a = np.random.rand(5, 3) # создали случайную матрицу\n",
        "a"
      ]
    },
    {
      "cell_type": "code",
      "execution_count": 3,
      "metadata": {
        "colab": {
          "base_uri": "https://localhost:8080/"
        },
        "id": "m7QzfmpNkRLd",
        "outputId": "9d87cf1f-b5d0-422c-e335-1e32ec3d8e9e"
      },
      "outputs": [
        {
          "output_type": "stream",
          "name": "stdout",
          "text": [
            "Проверили размеры : (5, 3)\n",
            "\n"
          ]
        }
      ],
      "source": [
        "print(\"Проверили размеры : %s\\n\" % (a.shape,))"
      ]
    },
    {
      "cell_type": "code",
      "execution_count": 4,
      "metadata": {
        "colab": {
          "base_uri": "https://localhost:8080/"
        },
        "id": "iSH48GyMkRLe",
        "outputId": "8b0f996e-d3dd-4693-8452-a9de7a4012b4"
      },
      "outputs": [
        {
          "output_type": "stream",
          "name": "stdout",
          "text": [
            "Добавили 5 :\n",
            "[[5.37454012 5.95071431 5.73199394]\n",
            " [5.59865848 5.15601864 5.15599452]\n",
            " [5.05808361 5.86617615 5.60111501]\n",
            " [5.70807258 5.02058449 5.96990985]\n",
            " [5.83244264 5.21233911 5.18182497]]\n",
            "\n"
          ]
        }
      ],
      "source": [
        "print(\"Добавили 5 :\\n%s\\n\" % (a + 5))"
      ]
    },
    {
      "cell_type": "markdown",
      "source": [
        "## Задание 1"
      ],
      "metadata": {
        "id": "5PQpPyl-eNWC"
      }
    },
    {
      "cell_type": "markdown",
      "source": [
        "Умножьте матрицу `а` на транспонированную матрицу `а`.  \n",
        "\n",
        "Чему равен самый первый элемент результата?  \n",
        "Ответ округлите до сотых."
      ],
      "metadata": {
        "id": "Q-Xs6jUiJUqc"
      }
    },
    {
      "cell_type": "code",
      "execution_count": 6,
      "metadata": {
        "id": "3PH52x_pkRLf"
      },
      "outputs": [],
      "source": [
        "# ваш код здесь\n",
        "res = a @ a.T"
      ]
    },
    {
      "cell_type": "code",
      "source": [
        "round(res[0, 0], 2)"
      ],
      "metadata": {
        "id": "aJwVR20wDiyC",
        "outputId": "132aeb6a-0152-481f-b539-c359879ad871",
        "colab": {
          "base_uri": "https://localhost:8080/"
        }
      },
      "execution_count": 11,
      "outputs": [
        {
          "output_type": "execute_result",
          "data": {
            "text/plain": [
              "1.58"
            ]
          },
          "metadata": {},
          "execution_count": 11
        }
      ]
    },
    {
      "cell_type": "code",
      "execution_count": 12,
      "metadata": {
        "colab": {
          "base_uri": "https://localhost:8080/"
        },
        "id": "NdmpOlEZkRLg",
        "outputId": "87368f89-8590-41a6-a2db-2e7b8ab7bee1"
      },
      "outputs": [
        {
          "output_type": "stream",
          "name": "stdout",
          "text": [
            "Среднее по колонкам :\n",
            "[0.68574946 0.30355721 0.50845826 0.56618897 0.40886891]\n",
            "\n"
          ]
        }
      ],
      "source": [
        "print(\"Среднее по колонкам :\\n%s\\n\" % (a.mean(axis=-1)))"
      ]
    },
    {
      "cell_type": "code",
      "execution_count": 13,
      "metadata": {
        "colab": {
          "base_uri": "https://localhost:8080/"
        },
        "id": "4jbmtVfLkRLh",
        "outputId": "cd1e891c-c8df-4814-cbb3-0ae66235fd2f"
      },
      "outputs": [
        {
          "output_type": "stream",
          "name": "stdout",
          "text": [
            "Изменили размеры :\n",
            "(3, 5)\n",
            "\n"
          ]
        }
      ],
      "source": [
        "print(\"Изменили размеры :\\n%s\\n\" % (a.reshape(3, 5).shape,))"
      ]
    },
    {
      "cell_type": "markdown",
      "metadata": {
        "id": "gOccPs9wkRLi"
      },
      "source": [
        "## Задание 2\n",
        "\n",
        "При помощи *NumPy* посчитайте сумму квадратов натуральных чисел от 1 до 10000."
      ]
    },
    {
      "cell_type": "code",
      "execution_count": 18,
      "metadata": {
        "id": "AXxc0OADkRLi",
        "outputId": "fd893753-d039-4122-f88e-2dbb46d40834",
        "colab": {
          "base_uri": "https://localhost:8080/"
        }
      },
      "outputs": [
        {
          "output_type": "execute_result",
          "data": {
            "text/plain": [
              "333383335000"
            ]
          },
          "metadata": {},
          "execution_count": 18
        }
      ],
      "source": [
        "# ваш код здесь\n",
        "np.sum(np.arange(1, 10001)**2)"
      ]
    },
    {
      "cell_type": "markdown",
      "metadata": {
        "id": "e0k_uiiokRLj"
      },
      "source": [
        "Аналогичные операции в *PyTorch* выглядят следующим образом, синтаксис отличается, но совсем немного:"
      ]
    },
    {
      "cell_type": "code",
      "execution_count": 19,
      "metadata": {
        "colab": {
          "base_uri": "https://localhost:8080/"
        },
        "id": "PWv2AHRykRLk",
        "outputId": "e8c13091-df77-44ad-fcef-228f1ad36124"
      },
      "outputs": [
        {
          "output_type": "execute_result",
          "data": {
            "text/plain": [
              "tensor([[0.6530, 0.7169, 0.6362],\n",
              "        [0.9092, 0.5002, 0.2932],\n",
              "        [0.0592, 0.4590, 0.9907],\n",
              "        [0.1247, 0.4553, 0.0994],\n",
              "        [0.1602, 0.4721, 0.2437]])"
            ]
          },
          "metadata": {},
          "execution_count": 19
        }
      ],
      "source": [
        "x = torch.rand(5, 3)\n",
        "x"
      ]
    },
    {
      "cell_type": "code",
      "execution_count": 20,
      "metadata": {
        "colab": {
          "base_uri": "https://localhost:8080/"
        },
        "id": "fjNGDbtPkRLk",
        "outputId": "eb72c8a8-3390-4c66-fab6-d22c46c080c3"
      },
      "outputs": [
        {
          "output_type": "stream",
          "name": "stdout",
          "text": [
            "Проверили размеры : torch.Size([5, 3])\n",
            "\n"
          ]
        }
      ],
      "source": [
        "print(\"Проверили размеры : %s\\n\" % (x.shape,))"
      ]
    },
    {
      "cell_type": "code",
      "execution_count": 21,
      "metadata": {
        "colab": {
          "base_uri": "https://localhost:8080/"
        },
        "id": "DALGo7QHkRLl",
        "outputId": "2ee1842a-c86f-4cec-ddca-3e5f75bac2c7"
      },
      "outputs": [
        {
          "output_type": "stream",
          "name": "stdout",
          "text": [
            "Добавили 5 :\n",
            "tensor([[5.6530, 5.7169, 5.6362],\n",
            "        [5.9092, 5.5002, 5.2932],\n",
            "        [5.0592, 5.4590, 5.9907],\n",
            "        [5.1247, 5.4553, 5.0994],\n",
            "        [5.1602, 5.4721, 5.2437]])\n",
            "\n"
          ]
        }
      ],
      "source": [
        "print(\"Добавили 5 :\\n%s\\n\" % (x + 5))"
      ]
    },
    {
      "cell_type": "code",
      "execution_count": 22,
      "metadata": {
        "colab": {
          "base_uri": "https://localhost:8080/"
        },
        "id": "gm7QOaAQkRLm",
        "outputId": "b61e9642-5c66-4710-acdc-031d0604dd2c"
      },
      "outputs": [
        {
          "output_type": "stream",
          "name": "stdout",
          "text": [
            "X*X^T  (1):\n",
            "tensor([[1.3451, 1.1388, 0.9981, 0.4710, 0.5981],\n",
            "        [1.1388, 1.1629, 0.5739, 0.3703, 0.4533],\n",
            "        [0.9981, 0.5739, 1.1958, 0.3148, 0.4677],\n",
            "        [0.4710, 0.3703, 0.3148, 0.2327, 0.2591],\n",
            "        [0.5981, 0.4533, 0.4677, 0.2591, 0.3080]])\n",
            "\n",
            "X*X^T  (2):\n",
            "tensor([[1.3451, 1.1388, 0.9981, 0.4710, 0.5981],\n",
            "        [1.1388, 1.1629, 0.5739, 0.3703, 0.4533],\n",
            "        [0.9981, 0.5739, 1.1958, 0.3148, 0.4677],\n",
            "        [0.4710, 0.3703, 0.3148, 0.2327, 0.2591],\n",
            "        [0.5981, 0.4533, 0.4677, 0.2591, 0.3080]])\n",
            "\n"
          ]
        }
      ],
      "source": [
        "print(\"X*X^T  (1):\\n%s\\n\" % (torch.matmul(x, x.transpose(1, 0))))\n",
        "print(\"X*X^T  (2):\\n%s\\n\" % (x.mm(x.t())))"
      ]
    },
    {
      "cell_type": "code",
      "execution_count": 23,
      "metadata": {
        "colab": {
          "base_uri": "https://localhost:8080/"
        },
        "id": "9MlA4NnokRLm",
        "outputId": "1fbd3f8e-4aca-496b-b5a7-2884d81227e5"
      },
      "outputs": [
        {
          "output_type": "stream",
          "name": "stdout",
          "text": [
            "Среднее по колонкам :\n",
            "tensor([0.6687, 0.5676, 0.5030, 0.2265, 0.2920])\n",
            "\n"
          ]
        }
      ],
      "source": [
        "print(\"Среднее по колонкам :\\n%s\\n\" % (x.mean(dim=-1)))"
      ]
    },
    {
      "cell_type": "code",
      "execution_count": 24,
      "metadata": {
        "colab": {
          "base_uri": "https://localhost:8080/"
        },
        "id": "1wqQTDpOkRLn",
        "outputId": "2a110a3f-3690-40b3-ff95-e0415dd6451e"
      },
      "outputs": [
        {
          "output_type": "stream",
          "name": "stdout",
          "text": [
            "Изменили размеры :\n",
            "torch.Size([3, 5])\n",
            "\n",
            "Изменили размеры :\n",
            "torch.Size([3, 5])\n",
            "\n"
          ]
        }
      ],
      "source": [
        "print(\"Изменили размеры :\\n%s\\n\" % (x.view([3, 5]).shape,))\n",
        "print(\"Изменили размеры :\\n%s\\n\" % (x.view_as(x.t()).shape,))"
      ]
    },
    {
      "cell_type": "markdown",
      "metadata": {
        "id": "EtnLnIxPkRLn"
      },
      "source": [
        "Небольшой пример того, как меняются операции:\n",
        "\n",
        "* `x.reshape([1,2,8]) -> x.view(1,2,8)`\n",
        "\n",
        "* `x.sum(axis=-1) -> x.sum(dim=-1)`\n",
        "\n",
        "* `x.astype('int64') -> x.type(torch.LongTensor)`\n",
        "\n",
        "Для помощи вам есть [таблица](https://github.com/torch/torch7/wiki/Torch-for-Numpy-users), которая поможет вам найти аналог операции в *NumPy*.\n"
      ]
    },
    {
      "cell_type": "markdown",
      "metadata": {
        "id": "V-QMteahkRLo"
      },
      "source": [
        "При помощи *PyTorch* посчитаем сумму квадратов натуральных чисел от 1 до 10000."
      ]
    },
    {
      "cell_type": "code",
      "execution_count": 25,
      "metadata": {
        "colab": {
          "base_uri": "https://localhost:8080/"
        },
        "id": "rHzmts5AkRLo",
        "outputId": "3adea36c-ba10-4e45-f1b5-fa62dfb64136"
      },
      "outputs": [
        {
          "output_type": "stream",
          "name": "stderr",
          "text": [
            "<ipython-input-25-b9d129fd8adb>:1: UserWarning: torch.range is deprecated and will be removed in a future release because its behavior is inconsistent with Python's range builtin. Instead, use torch.arange, which produces values in [start, end).\n",
            "  torch.sum(torch.range(1, 10000) ** 2)\n"
          ]
        },
        {
          "output_type": "execute_result",
          "data": {
            "text/plain": [
              "tensor(3.3338e+11)"
            ]
          },
          "metadata": {},
          "execution_count": 25
        }
      ],
      "source": [
        "torch.sum(torch.range(1, 10000) ** 2)"
      ]
    },
    {
      "cell_type": "markdown",
      "metadata": {
        "id": "-ebxkKPikRLp"
      },
      "source": [
        "Создаем тензоры в *PyTorch* и снова изучаем базовые операции"
      ]
    },
    {
      "cell_type": "code",
      "execution_count": 26,
      "metadata": {
        "colab": {
          "base_uri": "https://localhost:8080/"
        },
        "id": "lnxk_oJZkRLq",
        "outputId": "ff2c9d10-a61f-45eb-86d5-851b65f6d96d"
      },
      "outputs": [
        {
          "output_type": "stream",
          "name": "stdout",
          "text": [
            "tensor([[-3.7440e+34,  4.5900e-41, -3.7440e+34],\n",
            "        [ 4.5900e-41,  1.4013e-45,  0.0000e+00],\n",
            "        [ 5.2574e+03,  3.1823e-41,  0.0000e+00],\n",
            "        [ 0.0000e+00,  0.0000e+00,  0.0000e+00],\n",
            "        [ 5.1299e+03,  3.1823e-41,  1.2517e+02]])\n"
          ]
        }
      ],
      "source": [
        "x = torch.empty(5, 3) # пустой тензор\n",
        "print(x)"
      ]
    },
    {
      "cell_type": "code",
      "execution_count": 27,
      "metadata": {
        "colab": {
          "base_uri": "https://localhost:8080/"
        },
        "id": "fKAtmLU1kRLr",
        "outputId": "c2347431-3497-4323-fade-e3560eb2c1be"
      },
      "outputs": [
        {
          "output_type": "stream",
          "name": "stdout",
          "text": [
            "tensor([[0.5653, 0.8448, 0.6006],\n",
            "        [0.9598, 0.4931, 0.3007],\n",
            "        [0.0834, 0.4984, 0.2971],\n",
            "        [0.6903, 0.8105, 0.4752],\n",
            "        [0.0093, 0.4899, 0.2202]])\n"
          ]
        }
      ],
      "source": [
        "x = torch.rand(5, 3) # тензор со случайными числами\n",
        "print(x)"
      ]
    },
    {
      "cell_type": "code",
      "execution_count": 28,
      "metadata": {
        "colab": {
          "base_uri": "https://localhost:8080/"
        },
        "id": "xSMg9XO5kRLr",
        "outputId": "2225a4a6-15ff-4e0d-b314-d61c805bfc35"
      },
      "outputs": [
        {
          "output_type": "stream",
          "name": "stdout",
          "text": [
            "tensor([[0, 0, 0],\n",
            "        [0, 0, 0],\n",
            "        [0, 0, 0],\n",
            "        [0, 0, 0],\n",
            "        [0, 0, 0]])\n"
          ]
        }
      ],
      "source": [
        "x = torch.zeros(5, 3, dtype=torch.long) # тензор с нулями и указанием типов чисел\n",
        "print(x)"
      ]
    },
    {
      "cell_type": "code",
      "execution_count": 29,
      "metadata": {
        "colab": {
          "base_uri": "https://localhost:8080/"
        },
        "id": "FQlyXpO1kRLs",
        "outputId": "2829b330-72e0-4d15-895c-eeaf519e972b"
      },
      "outputs": [
        {
          "output_type": "stream",
          "name": "stdout",
          "text": [
            "tensor([5.5000, 3.0000])\n"
          ]
        }
      ],
      "source": [
        "x = torch.tensor([5.5, 3]) # конструируем тензор из питоновского листа\n",
        "print(x)"
      ]
    },
    {
      "cell_type": "code",
      "execution_count": 30,
      "metadata": {
        "colab": {
          "base_uri": "https://localhost:8080/"
        },
        "id": "9upBvFU3kRLs",
        "outputId": "e866cdcd-15d6-40a0-c071-07bf5ebfcf86"
      },
      "outputs": [
        {
          "output_type": "stream",
          "name": "stdout",
          "text": [
            "tensor([[1., 1., 1.],\n",
            "        [1., 1., 1.],\n",
            "        [1., 1., 1.],\n",
            "        [1., 1., 1.],\n",
            "        [1., 1., 1.]], dtype=torch.float64) torch.Size([5, 3])\n"
          ]
        }
      ],
      "source": [
        "x = x.new_ones(5, 3, dtype=torch.double) # используем уже созданный тензор для создания тензора из единичек\n",
        "print(x, x.size())"
      ]
    },
    {
      "cell_type": "code",
      "execution_count": 31,
      "metadata": {
        "colab": {
          "base_uri": "https://localhost:8080/"
        },
        "id": "_u-h30lYkRLt",
        "outputId": "a3865265-a7cf-481d-8837-cf5179643e41"
      },
      "outputs": [
        {
          "output_type": "stream",
          "name": "stdout",
          "text": [
            "tensor([[ 1.8327,  2.2704, -1.6015],\n",
            "        [-1.4078, -1.5062,  0.1722],\n",
            "        [ 0.4352, -0.4756, -0.6074],\n",
            "        [-0.3555,  0.2073, -0.2072],\n",
            "        [ 1.2856, -1.2786, -0.9100]]) torch.Size([5, 3])\n"
          ]
        }
      ],
      "source": [
        "x = torch.randn_like(x, dtype=torch.float) # создаем матрицу с размерами как у x\n",
        "print(x, x.size())"
      ]
    },
    {
      "cell_type": "markdown",
      "source": [
        "## Задание 3"
      ],
      "metadata": {
        "id": "nct86OE6Lzdt"
      }
    },
    {
      "cell_type": "markdown",
      "source": [
        "Сгенерируйте два тензора: `x` и `y` размера 5 на 3 со случайными числами.\n",
        "Вычислите сумму тензоров `x` и `y`.\n",
        "\n",
        "В ответе напишите значение первой координаты в полученной суммы, округленной до сотых."
      ],
      "metadata": {
        "id": "VdZOcgoafJdK"
      }
    },
    {
      "cell_type": "code",
      "execution_count": 43,
      "metadata": {
        "id": "f-zCf-MhkRLt"
      },
      "outputs": [],
      "source": [
        "torch.manual_seed(42)\n",
        "\n",
        "# ваш код здесь\n",
        "x = torch.rand(5, 3)\n",
        "y = torch.rand(5, 3)"
      ]
    },
    {
      "cell_type": "code",
      "source": [
        "res = x + y\n",
        "res[0][0]"
      ],
      "metadata": {
        "id": "SdiIPmY8Ee3d",
        "outputId": "d1a20a13-3a36-4e32-98e9-b8edef688185",
        "colab": {
          "base_uri": "https://localhost:8080/"
        }
      },
      "execution_count": 45,
      "outputs": [
        {
          "output_type": "execute_result",
          "data": {
            "text/plain": [
              "tensor(1.3117)"
            ]
          },
          "metadata": {},
          "execution_count": 45
        }
      ]
    },
    {
      "cell_type": "code",
      "execution_count": null,
      "metadata": {
        "id": "fwOv0PQykRLw"
      },
      "outputs": [],
      "source": [
        "print(x * y) # поэлементное умножение"
      ]
    },
    {
      "cell_type": "markdown",
      "source": [
        "## Задание 4"
      ],
      "metadata": {
        "id": "95pa8_HnL7r0"
      }
    },
    {
      "cell_type": "markdown",
      "source": [
        "Умножьте матрицу `x` на транспонированную матрицу `y`.\n",
        "\n",
        "В ответ напишите последний элемент (правый нижний) полученной матрицы.  \n",
        "Ответ округлите до сотых."
      ],
      "metadata": {
        "id": "lmF9KzEtgGOa"
      }
    },
    {
      "cell_type": "code",
      "execution_count": 53,
      "metadata": {
        "id": "8CeulY3jkRLx",
        "outputId": "b4ec2763-f8ef-4389-8882-bc1781a482f5",
        "colab": {
          "base_uri": "https://localhost:8080/"
        }
      },
      "outputs": [
        {
          "output_type": "execute_result",
          "data": {
            "text/plain": [
              "0.49"
            ]
          },
          "metadata": {},
          "execution_count": 53
        }
      ],
      "source": [
        "res = x @ y.T\n",
        "round(res[-1][-1].item(), 2)"
      ]
    },
    {
      "cell_type": "code",
      "execution_count": null,
      "metadata": {
        "colab": {
          "base_uri": "https://localhost:8080/"
        },
        "id": "JfIqJz8EkRLy",
        "outputId": "47f940f1-46d2-46fd-bd6e-4541f65d79d1"
      },
      "outputs": [
        {
          "output_type": "stream",
          "name": "stdout",
          "text": [
            "torch.Size([1, 5, 3])\n"
          ]
        }
      ],
      "source": [
        "print(x.unsqueeze(0).shape) # добавили измерение в начало, аналог броадкастинга"
      ]
    },
    {
      "cell_type": "code",
      "execution_count": null,
      "metadata": {
        "colab": {
          "base_uri": "https://localhost:8080/"
        },
        "id": "WlGFxytDkRLz",
        "outputId": "5dafb85e-16ee-4d9f-8803-79750e8a7435"
      },
      "outputs": [
        {
          "output_type": "stream",
          "name": "stdout",
          "text": [
            "torch.Size([5, 3])\n"
          ]
        }
      ],
      "source": [
        "print(x.unsqueeze(0).squeeze(0).shape) # убрали измерение в начале, аналог броадкастинга"
      ]
    },
    {
      "cell_type": "code",
      "source": [
        "a = torch.rand((1,3))\n",
        "a"
      ],
      "metadata": {
        "colab": {
          "base_uri": "https://localhost:8080/"
        },
        "id": "CDlNQv5hNb8S",
        "outputId": "333707ef-335c-471c-af4b-9a8c217693aa"
      },
      "execution_count": null,
      "outputs": [
        {
          "output_type": "execute_result",
          "data": {
            "text/plain": [
              "tensor([[0.8823, 0.9150, 0.3829]])"
            ]
          },
          "metadata": {},
          "execution_count": 27
        }
      ]
    },
    {
      "cell_type": "code",
      "source": [
        "a.squeeze(0)"
      ],
      "metadata": {
        "colab": {
          "base_uri": "https://localhost:8080/"
        },
        "id": "qzPXu8k4Nb_X",
        "outputId": "276fc68a-c6ff-4e57-c9dc-a9241c89cf24"
      },
      "execution_count": null,
      "outputs": [
        {
          "output_type": "execute_result",
          "data": {
            "text/plain": [
              "tensor([0.8823, 0.9150, 0.3829])"
            ]
          },
          "metadata": {},
          "execution_count": 28
        }
      ]
    },
    {
      "cell_type": "markdown",
      "metadata": {
        "id": "hVtkNSS8kRLz"
      },
      "source": [
        "Мы также можем делать обычные срезы и переводить матрицы назад в *NumPy*:"
      ]
    },
    {
      "cell_type": "code",
      "execution_count": null,
      "metadata": {
        "colab": {
          "base_uri": "https://localhost:8080/"
        },
        "id": "6Jv3jZimkRLz",
        "outputId": "769ab5b4-2e1e-4284-fe1f-39113344792a"
      },
      "outputs": [
        {
          "output_type": "stream",
          "name": "stdout",
          "text": [
            "True\n",
            "True\n"
          ]
        }
      ],
      "source": [
        "a = np.ones((3, 5))\n",
        "x = torch.ones((3, 5))\n",
        "print(np.allclose(x.numpy(), a))\n",
        "print(np.allclose(x.numpy()[:, 1], a[:, 1]))"
      ]
    },
    {
      "cell_type": "code",
      "source": [
        "a = np.array([1,2,3,4])\n",
        "b = np.array([[5],[6],[7],[8]])\n",
        "\n",
        "a.shape, b.shape"
      ],
      "metadata": {
        "colab": {
          "base_uri": "https://localhost:8080/"
        },
        "id": "5jCXz5cakiw5",
        "outputId": "369f255a-5144-476d-fe2a-09a527c704ef"
      },
      "execution_count": null,
      "outputs": [
        {
          "output_type": "execute_result",
          "data": {
            "text/plain": [
              "((4,), (4, 1))"
            ]
          },
          "metadata": {},
          "execution_count": 34
        }
      ]
    },
    {
      "cell_type": "code",
      "source": [
        "a @ b"
      ],
      "metadata": {
        "colab": {
          "base_uri": "https://localhost:8080/"
        },
        "id": "KtEUqtkZkp6-",
        "outputId": "c3fbc569-dfc0-4bd1-cd89-b235f1dcc66f"
      },
      "execution_count": null,
      "outputs": [
        {
          "output_type": "execute_result",
          "data": {
            "text/plain": [
              "array([70])"
            ]
          },
          "metadata": {},
          "execution_count": 32
        }
      ]
    },
    {
      "cell_type": "code",
      "source": [
        "# b @ a"
      ],
      "metadata": {
        "id": "rYIcV16ukw3_"
      },
      "execution_count": null,
      "outputs": []
    }
  ],
  "metadata": {
    "colab": {
      "provenance": [],
      "include_colab_link": true
    },
    "kernelspec": {
      "display_name": "Python 3",
      "language": "python",
      "name": "python3"
    },
    "language_info": {
      "codemirror_mode": {
        "name": "ipython",
        "version": 3
      },
      "file_extension": ".py",
      "mimetype": "text/x-python",
      "name": "python",
      "nbconvert_exporter": "python",
      "pygments_lexer": "ipython3",
      "version": "3.6.9"
    },
    "accelerator": "GPU",
    "gpuClass": "standard"
  },
  "nbformat": 4,
  "nbformat_minor": 0
}