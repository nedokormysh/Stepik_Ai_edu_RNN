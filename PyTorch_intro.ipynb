{
  "nbformat": 4,
  "nbformat_minor": 0,
  "metadata": {
    "colab": {
      "provenance": [],
      "include_colab_link": true
    },
    "kernelspec": {
      "name": "python3",
      "display_name": "Python 3"
    },
    "language_info": {
      "name": "python"
    }
  },
  "cells": [
    {
      "cell_type": "markdown",
      "metadata": {
        "id": "view-in-github",
        "colab_type": "text"
      },
      "source": [
        "<a href=\"https://colab.research.google.com/github/nedokormysh/Stepik_Ai_edu_RNN/blob/week_4_PyTorch/PyTorch_intro.ipynb\" target=\"_parent\"><img src=\"https://colab.research.google.com/assets/colab-badge.svg\" alt=\"Open In Colab\"/></a>"
      ]
    },
    {
      "cell_type": "markdown",
      "source": [
        "# Введение PyTorch"
      ],
      "metadata": {
        "id": "v7iRTKYojkMa"
      }
    },
    {
      "cell_type": "markdown",
      "source": [
        "В данном ноутбуке мы познакомимся с фреймворком PyTorch"
      ],
      "metadata": {
        "id": "X6jv_RPojsRy"
      }
    },
    {
      "cell_type": "markdown",
      "source": [
        "## Импорт библиотек"
      ],
      "metadata": {
        "id": "IqhUNgJCkN-v"
      }
    },
    {
      "cell_type": "code",
      "source": [
        "import numpy as np\n",
        "import torch"
      ],
      "metadata": {
        "id": "VjmmNJaXkQB0"
      },
      "execution_count": 1,
      "outputs": []
    },
    {
      "cell_type": "code",
      "source": [
        "from IPython.display import display"
      ],
      "metadata": {
        "id": "vXAkWVc1zyPu"
      },
      "execution_count": 2,
      "outputs": []
    },
    {
      "cell_type": "markdown",
      "source": [
        "## PyTorch vs NumPy"
      ],
      "metadata": {
        "id": "AUR0QGLGkIcf"
      }
    },
    {
      "cell_type": "markdown",
      "source": [
        "Интерфейс `PyTorch` реализован подобно интерфесу `NumPy` для удобства использования. Главное различие между ними, что `NumPy` оперрирует `numpy.ndarray` массивами, а `PyTorch` &mdash; тензорами `pytorch.Tensor`. Напишем одни и те же операции на `NumPy` и `PyTorch`."
      ],
      "metadata": {
        "id": "3GX2pr_wj5gK"
      }
    },
    {
      "cell_type": "markdown",
      "source": [
        "### NumPy"
      ],
      "metadata": {
        "id": "kzjvFvSJxiIA"
      }
    },
    {
      "cell_type": "code",
      "execution_count": 3,
      "metadata": {
        "id": "CgJyQ6pnKHDs"
      },
      "outputs": [],
      "source": [
        "x = np.arange(16).reshape(4, 4)"
      ]
    },
    {
      "cell_type": "code",
      "source": [
        "print(f\"Матрица X:\\n{x}\\n\")\n",
        "print(f\"Размер: {x.shape}\\n\")\n",
        "print(f\"Добавление константы:\\n{x + 5}\\n\")\n",
        "print(f\"X*X^T:\\n{np.dot(x, x.T)}\\n\")\n",
        "print(f\"Среднее по колонкам:\\n{x.mean(axis=-1)}\\n\")\n",
        "print(f\"Кумулятивная сумма по колонкам:\\n{np.cumsum(x, axis=0)}\\n\")"
      ],
      "metadata": {
        "id": "p_bSfIKJxv-i",
        "outputId": "1ff9a9c7-5af9-4ea0-83d5-28ffe546e350",
        "colab": {
          "base_uri": "https://localhost:8080/"
        }
      },
      "execution_count": 4,
      "outputs": [
        {
          "output_type": "stream",
          "name": "stdout",
          "text": [
            "Матрица X:\n",
            "[[ 0  1  2  3]\n",
            " [ 4  5  6  7]\n",
            " [ 8  9 10 11]\n",
            " [12 13 14 15]]\n",
            "\n",
            "Размер: (4, 4)\n",
            "\n",
            "Добавление константы:\n",
            "[[ 5  6  7  8]\n",
            " [ 9 10 11 12]\n",
            " [13 14 15 16]\n",
            " [17 18 19 20]]\n",
            "\n",
            "X*X^T:\n",
            "[[ 14  38  62  86]\n",
            " [ 38 126 214 302]\n",
            " [ 62 214 366 518]\n",
            " [ 86 302 518 734]]\n",
            "\n",
            "Среднее по колонкам:\n",
            "[ 1.5  5.5  9.5 13.5]\n",
            "\n",
            "Кумулятивная сумма по колонкам:\n",
            "[[ 0  1  2  3]\n",
            " [ 4  6  8 10]\n",
            " [12 15 18 21]\n",
            " [24 28 32 36]]\n",
            "\n"
          ]
        }
      ]
    },
    {
      "cell_type": "markdown",
      "source": [
        "### PyTorch"
      ],
      "metadata": {
        "id": "4nGmkEzSxi0y"
      }
    },
    {
      "cell_type": "code",
      "source": [
        "x = np.arange(16).reshape(4, 4)\n",
        "x = torch.tensor(x, dtype=torch.float32)\n",
        "\n",
        "display(x, x.dtype)"
      ],
      "metadata": {
        "id": "tD_D6ebPzI3X",
        "outputId": "98adbc57-8c8a-43a4-de9b-b52f8fbced5a",
        "colab": {
          "base_uri": "https://localhost:8080/",
          "height": 104
        }
      },
      "execution_count": 5,
      "outputs": [
        {
          "output_type": "display_data",
          "data": {
            "text/plain": [
              "tensor([[ 0.,  1.,  2.,  3.],\n",
              "        [ 4.,  5.,  6.,  7.],\n",
              "        [ 8.,  9., 10., 11.],\n",
              "        [12., 13., 14., 15.]])"
            ]
          },
          "metadata": {}
        },
        {
          "output_type": "display_data",
          "data": {
            "text/plain": [
              "torch.float32"
            ]
          },
          "metadata": {}
        }
      ]
    },
    {
      "cell_type": "markdown",
      "source": [
        "ИЛИ"
      ],
      "metadata": {
        "id": "5yRYitHb38wZ"
      }
    },
    {
      "cell_type": "code",
      "source": [
        "x = torch.arange(0, 16, dtype=torch.float32).view(4, 4)\n",
        "\n",
        "display(x, x.dtype)"
      ],
      "metadata": {
        "id": "cBB8PUDdzLEe",
        "outputId": "3b883c7e-0eed-4106-c436-46630f3888f2",
        "colab": {
          "base_uri": "https://localhost:8080/",
          "height": 104
        }
      },
      "execution_count": 6,
      "outputs": [
        {
          "output_type": "display_data",
          "data": {
            "text/plain": [
              "tensor([[ 0.,  1.,  2.,  3.],\n",
              "        [ 4.,  5.,  6.,  7.],\n",
              "        [ 8.,  9., 10., 11.],\n",
              "        [12., 13., 14., 15.]])"
            ]
          },
          "metadata": {}
        },
        {
          "output_type": "display_data",
          "data": {
            "text/plain": [
              "torch.float32"
            ]
          },
          "metadata": {}
        }
      ]
    },
    {
      "cell_type": "code",
      "source": [
        "print(f\"Матрица X:\\n{x}\\n\")\n",
        "print(f\"Размер: {x.shape}\\n\")\n",
        "print(f\"Добавление константы:\\n{x + 5}\")\n",
        "print(f\"X*X^T:\\n{torch.matmul(x, x.transpose(1, 0))}\\n\")  # кратко: x.mm(x.t())\n",
        "print(f\"Среднее по колонкам:\\n{torch.mean(x, dim=-1)}\\n\")\n",
        "print(f\"Кумулятивная сумма по колонкам:\\n{torch.cumsum(x, dim=0)}\")"
      ],
      "metadata": {
        "id": "C74kwqj4xljP",
        "outputId": "8ff2d99e-7c40-4c79-96ec-97eeb58fde6c",
        "colab": {
          "base_uri": "https://localhost:8080/"
        }
      },
      "execution_count": 7,
      "outputs": [
        {
          "output_type": "stream",
          "name": "stdout",
          "text": [
            "Матрица X:\n",
            "tensor([[ 0.,  1.,  2.,  3.],\n",
            "        [ 4.,  5.,  6.,  7.],\n",
            "        [ 8.,  9., 10., 11.],\n",
            "        [12., 13., 14., 15.]])\n",
            "\n",
            "Размер: torch.Size([4, 4])\n",
            "\n",
            "Добавление константы:\n",
            "tensor([[ 5.,  6.,  7.,  8.],\n",
            "        [ 9., 10., 11., 12.],\n",
            "        [13., 14., 15., 16.],\n",
            "        [17., 18., 19., 20.]])\n",
            "X*X^T:\n",
            "tensor([[ 14.,  38.,  62.,  86.],\n",
            "        [ 38., 126., 214., 302.],\n",
            "        [ 62., 214., 366., 518.],\n",
            "        [ 86., 302., 518., 734.]])\n",
            "\n",
            "Среднее по колонкам:\n",
            "tensor([ 1.5000,  5.5000,  9.5000, 13.5000])\n",
            "\n",
            "Кумулятивная сумма по колонкам:\n",
            "tensor([[ 0.,  1.,  2.,  3.],\n",
            "        [ 4.,  6.,  8., 10.],\n",
            "        [12., 15., 18., 21.],\n",
            "        [24., 28., 32., 36.]])\n"
          ]
        }
      ]
    },
    {
      "cell_type": "markdown",
      "source": [
        "Заметим, что некоторые названия методов отличаются и полной совместимости библиотек пока нет, и придется сново запоминать новые названия для некоторых функций.\n",
        "\n",
        "Например, PyTorch имеет другое написание стандартных типов\n",
        " * `x.astype('int64') -> x.type(torch.LongTensor)`\n",
        "\n",
        "\n",
        "Для более подробного ознакомления можно посмотреть на [таблицу](https://github.com/torch/torch7/wiki/Torch-for-Numpy-users) перевода методов из NumPy в PyTorch, а также заглянуть в [документацию](http://pytorch.org/docs/master/)."
      ],
      "metadata": {
        "id": "FWh2qa6c4Cjj"
      }
    },
    {
      "cell_type": "markdown",
      "source": [
        "### Конвертация из NumPy в PyTorch (и обратно)"
      ],
      "metadata": {
        "id": "efkI6qBz44dO"
      }
    },
    {
      "cell_type": "markdown",
      "source": [
        "Можно переводить numpy-массив в torch-тензор и наоборот."
      ],
      "metadata": {
        "id": "BMhVp__k48nZ"
      }
    },
    {
      "cell_type": "markdown",
      "source": [
        "Например, сделаем из numpy-массива torch-тензор"
      ],
      "metadata": {
        "id": "O083QgF54_e4"
      }
    },
    {
      "cell_type": "code",
      "source": [
        "# зададим numpy массив\n",
        "x_np = np.array([2, 5, 7, 1])\n",
        "\n",
        "# 1-й способ\n",
        "x_torch = torch.tensor(x_np)\n",
        "print(type(x_torch), x_torch)\n",
        "\n",
        "# 2-й способ\n",
        "x_torch = torch.from_numpy(x_np)\n",
        "print(type(x_torch), x_torch)"
      ],
      "metadata": {
        "id": "EzSthgTf4t_r",
        "outputId": "890c4a58-6232-4b81-b498-ee007940b503",
        "colab": {
          "base_uri": "https://localhost:8080/"
        }
      },
      "execution_count": 9,
      "outputs": [
        {
          "output_type": "stream",
          "name": "stdout",
          "text": [
            "<class 'torch.Tensor'> tensor([2, 5, 7, 1])\n",
            "<class 'torch.Tensor'> tensor([2, 5, 7, 1])\n"
          ]
        }
      ]
    },
    {
      "cell_type": "markdown",
      "source": [
        "Аналогично и с переводом обратно:  \n",
        "функция `x.numpy()` переведет torch-тензор `x` в numpy-массив, причем типы переведутся соответственно таблице"
      ],
      "metadata": {
        "id": "hemVBU8O5Y-h"
      }
    },
    {
      "cell_type": "code",
      "source": [
        "x_np = x_torch.numpy()\n",
        "print(type(x_np), x_np)"
      ],
      "metadata": {
        "id": "ofvpKBik5e_z",
        "outputId": "c650a138-d6d0-433a-ecb6-ee56cc4ece0a",
        "colab": {
          "base_uri": "https://localhost:8080/"
        }
      },
      "execution_count": 10,
      "outputs": [
        {
          "output_type": "stream",
          "name": "stdout",
          "text": [
            "<class 'numpy.ndarray'> [2 5 7 1]\n"
          ]
        }
      ]
    },
    {
      "cell_type": "markdown",
      "source": [
        "## Создание и инициализация тензоров"
      ],
      "metadata": {
        "id": "ZLuswZ7H69st"
      }
    },
    {
      "cell_type": "markdown",
      "source": [
        "### Создание тензоров"
      ],
      "metadata": {
        "id": "6S3kwInyIeiP"
      }
    },
    {
      "cell_type": "code",
      "source": [
        "x = torch.tensor([ [0,1,2], [3,4,6] ])\n",
        "x"
      ],
      "metadata": {
        "id": "GNjd5OQa7DMN",
        "outputId": "c00bba1e-eed0-49da-9a86-36ac8f164c74",
        "colab": {
          "base_uri": "https://localhost:8080/"
        }
      },
      "execution_count": 11,
      "outputs": [
        {
          "output_type": "execute_result",
          "data": {
            "text/plain": [
              "tensor([[0, 1, 2],\n",
              "        [3, 4, 6]])"
            ]
          },
          "metadata": {},
          "execution_count": 11
        }
      ]
    },
    {
      "cell_type": "markdown",
      "source": [
        "Тензор можно создавать при помощи конструкторов. Доступны следующие типы:  \n",
        "\n",
        "\n",
        "*  HalfTensor   - `float16`\n",
        "*  FloatTensor  - `float32`\n",
        "*  DoubleTensor - `float64`\n",
        "\n",
        "\n",
        "*  ShortTensor  - `int16`\n",
        "*  IntTensor    - `int32`\n",
        "*  LongTensor   - `int64`\n",
        "*  CharTensor   - `int8`\n",
        "\n",
        "\n",
        "*  ByteTensor   - `uint8`\n",
        "*  BoolTensor   - `bool`"
      ],
      "metadata": {
        "id": "gb7nwuX0A4U8"
      }
    },
    {
      "cell_type": "code",
      "source": [
        "x = torch.Tensor(2, 4)\n",
        "x, x.dtype"
      ],
      "metadata": {
        "id": "pOoxg1eGDL1N",
        "outputId": "63daeea1-d70a-4290-9fa7-04adeb1381a9",
        "colab": {
          "base_uri": "https://localhost:8080/"
        }
      },
      "execution_count": 12,
      "outputs": [
        {
          "output_type": "execute_result",
          "data": {
            "text/plain": [
              "(tensor([[ 2.6239e-31,  4.5042e-41, -6.8879e-34,  3.2331e-41],\n",
              "         [ 4.4842e-44,  0.0000e+00,  1.7937e-43,  0.0000e+00]]),\n",
              " torch.float32)"
            ]
          },
          "metadata": {},
          "execution_count": 12
        }
      ]
    },
    {
      "cell_type": "code",
      "source": [
        "x = torch.FloatTensor(2, 4)\n",
        "display(x)\n",
        "display(x.dtype)"
      ],
      "metadata": {
        "id": "KcPYl0olJpEx",
        "outputId": "965319f0-ebde-4723-c2d5-2dbc54192bda",
        "colab": {
          "base_uri": "https://localhost:8080/",
          "height": 69
        }
      },
      "execution_count": 13,
      "outputs": [
        {
          "output_type": "display_data",
          "data": {
            "text/plain": [
              "tensor([[ 2.6239e-31,  4.5042e-41, -6.8866e-34,  3.2331e-41],\n",
              "        [ 4.4842e-44,  0.0000e+00,  1.7937e-43,  0.0000e+00]])"
            ]
          },
          "metadata": {}
        },
        {
          "output_type": "display_data",
          "data": {
            "text/plain": [
              "torch.float32"
            ]
          },
          "metadata": {}
        }
      ]
    },
    {
      "cell_type": "code",
      "source": [
        "x = torch.HalfTensor(2, 4)\n",
        "display(x)\n",
        "display(x.dtype)"
      ],
      "metadata": {
        "id": "1-b709VzJrjW",
        "outputId": "77a60c8e-787b-48a3-fa2e-296ce8b714ac",
        "colab": {
          "base_uri": "https://localhost:8080/",
          "height": 86
        }
      },
      "execution_count": 14,
      "outputs": [
        {
          "output_type": "display_data",
          "data": {
            "text/plain": [
              "tensor([[ 2.1760e+04, -1.3399e-04,  1.9600e+02,  0.0000e+00],\n",
              "        [-5.0000e+02, -5.2989e-05,  1.9600e+02,  0.0000e+00]],\n",
              "       dtype=torch.float16)"
            ]
          },
          "metadata": {}
        },
        {
          "output_type": "display_data",
          "data": {
            "text/plain": [
              "torch.float16"
            ]
          },
          "metadata": {}
        }
      ]
    },
    {
      "cell_type": "code",
      "source": [
        "x = torch.DoubleTensor(2, 4)\n",
        "display(x)\n",
        "display(x.dtype)"
      ],
      "metadata": {
        "id": "Lwv584OgJvnu",
        "outputId": "345037a0-a4e4-4a5f-deb3-18edad810aec",
        "colab": {
          "base_uri": "https://localhost:8080/",
          "height": 86
        }
      },
      "execution_count": 15,
      "outputs": [
        {
          "output_type": "display_data",
          "data": {
            "text/plain": [
              "tensor([[ 0.0000e+00, 5.3028e+180,  6.0074e-67,  3.4586e+97],\n",
              "        [ 1.2472e-47, 2.9134e+126, 4.2522e+180, 7.4854e+247]],\n",
              "       dtype=torch.float64)"
            ]
          },
          "metadata": {}
        },
        {
          "output_type": "display_data",
          "data": {
            "text/plain": [
              "torch.float64"
            ]
          },
          "metadata": {}
        }
      ]
    },
    {
      "cell_type": "code",
      "source": [
        "x = torch.IntTensor(2, 4)\n",
        "display(x)\n",
        "display(x.dtype)"
      ],
      "metadata": {
        "id": "PjOlDAiAJxp7",
        "outputId": "6c98e032-a193-40c3-c113-59ff49d14321",
        "colab": {
          "base_uri": "https://localhost:8080/",
          "height": 86
        }
      },
      "execution_count": 16,
      "outputs": [
        {
          "output_type": "display_data",
          "data": {
            "text/plain": [
              "tensor([[ 1073741824,           0, -2006413248,       23072],\n",
              "        [         64,           0,          97,           0]],\n",
              "       dtype=torch.int32)"
            ]
          },
          "metadata": {}
        },
        {
          "output_type": "display_data",
          "data": {
            "text/plain": [
              "torch.int32"
            ]
          },
          "metadata": {}
        }
      ]
    },
    {
      "cell_type": "code",
      "source": [
        "x = torch.ShortTensor(2, 4)\n",
        "display(x)\n",
        "display(x.dtype)"
      ],
      "metadata": {
        "id": "HGUFWjtJJ0Bv",
        "outputId": "597fba0b-444d-41d2-f91e-02cf16d08217",
        "colab": {
          "base_uri": "https://localhost:8080/",
          "height": 69
        }
      },
      "execution_count": 17,
      "outputs": [
        {
          "output_type": "display_data",
          "data": {
            "text/plain": [
              "tensor([[ 30640, -31853,  23072,      0],\n",
              "        [ 19680,   3242,  32143,      0]], dtype=torch.int16)"
            ]
          },
          "metadata": {}
        },
        {
          "output_type": "display_data",
          "data": {
            "text/plain": [
              "torch.int16"
            ]
          },
          "metadata": {}
        }
      ]
    },
    {
      "cell_type": "code",
      "source": [
        "x = torch.LongTensor(2, 4)\n",
        "display(x)\n",
        "display(x.dtype)"
      ],
      "metadata": {
        "id": "0hpFTvmXJ_wi",
        "outputId": "287c1254-d5a2-4c06-d2bf-b86d1d07f97b",
        "colab": {
          "base_uri": "https://localhost:8080/",
          "height": 104
        }
      },
      "execution_count": 18,
      "outputs": [
        {
          "output_type": "display_data",
          "data": {
            "text/plain": [
              "tensor([[7309453675965983778, 8315168162784306286, 8367752027310484831,\n",
              "         7954801838398993778],\n",
              "        [2459029315949324647, 3619036149988877369, 7076330608908513581,\n",
              "         3257570598614558049]])"
            ]
          },
          "metadata": {}
        },
        {
          "output_type": "display_data",
          "data": {
            "text/plain": [
              "torch.int64"
            ]
          },
          "metadata": {}
        }
      ]
    },
    {
      "cell_type": "markdown",
      "source": [
        "Тип элементов можно также указывать в методе `empty()` или функциях инициализации"
      ],
      "metadata": {
        "id": "8KHJNM6ZIYiX"
      }
    },
    {
      "cell_type": "code",
      "source": [
        "x_1 = torch.empty(2,3, dtype=torch.float64)\n",
        "x_2 = torch.empty(2,3, dtype=torch.double)\n",
        "y_1 = torch.zeros(2,3, dtype=torch.int64)\n",
        "y_2 = torch.zeros(2,3, dtype=torch.long)\n",
        "\n",
        "x_1, x_2, y_1, y_2"
      ],
      "metadata": {
        "id": "bTmv8QCIHyMZ",
        "outputId": "475cfee5-1338-4a3b-889e-fdbf41315b3e",
        "colab": {
          "base_uri": "https://localhost:8080/"
        }
      },
      "execution_count": 19,
      "outputs": [
        {
          "output_type": "execute_result",
          "data": {
            "text/plain": [
              "(tensor([[4.8960e-310, 4.8960e-310,  0.0000e+00],\n",
              "         [ 0.0000e+00,  0.0000e+00, 2.8186e-315]], dtype=torch.float64),\n",
              " tensor([[4.2522e+180, 7.4854e+247, 2.3236e+251],\n",
              "         [6.1113e+223, 2.5990e-144,  9.4211e-67]], dtype=torch.float64),\n",
              " tensor([[0, 0, 0],\n",
              "         [0, 0, 0]]),\n",
              " tensor([[0, 0, 0],\n",
              "         [0, 0, 0]]))"
            ]
          },
          "metadata": {},
          "execution_count": 19
        }
      ]
    },
    {
      "cell_type": "markdown",
      "source": [
        "Размер элемента"
      ],
      "metadata": {
        "id": "UNAUkHUaKNdG"
      }
    },
    {
      "cell_type": "code",
      "source": [
        "y_2.element_size()"
      ],
      "metadata": {
        "id": "r6BwSOleIBqw",
        "outputId": "f06770e7-8323-43da-c6df-b2ee070acffc",
        "colab": {
          "base_uri": "https://localhost:8080/"
        }
      },
      "execution_count": 20,
      "outputs": [
        {
          "output_type": "execute_result",
          "data": {
            "text/plain": [
              "8"
            ]
          },
          "metadata": {},
          "execution_count": 20
        }
      ]
    },
    {
      "cell_type": "markdown",
      "source": [
        "### Инициализация значений"
      ],
      "metadata": {
        "id": "txN0sGm5ITJu"
      }
    },
    {
      "cell_type": "code",
      "source": [
        "y = torch.zeros (2, 3)                   # матрица 2x3 из нулей  типа float32\n",
        "x = torch.zeros_like(y)                  # такой же формы как y из нулей\n",
        "\n",
        "x = torch.ones (2, 3)                    # матрица 2x3 из единиц\n",
        "x = torch.ones_like(y)                   # такой же формы как y из единиц\n",
        "\n",
        "x = torch.full((2, 3), 3.14159265)       # заполнить матрицу 2x3 числом pi\n",
        "\n",
        "x = torch.eye   (3)                      # единичная матрица 3x3\n",
        "x = torch.eye   (2,3)                    # \"единичная\" не квадратная [[1., 0., 0.],\n",
        "                                         #                            [0., 1., 0.]]\n",
        "x = torch.linspace(0,2,5)                # [0.0,0.5,1.0,1.5,2.0] [beg,end], num\n",
        "\n",
        "x = torch.rand (2, 3)                    # 2x3 равномерно случ.матрица [0...1]\n",
        "x = torch.randn(2, 3)                    # 2x3 нормально  случ.матрица (mean=0, var=1)\n",
        "\n",
        "x = torch.empty(3).uniform_(0, 1)        # вектор с равномерным распределением [0..1]\n",
        "x = torch.empty(3).normal_(mean=0,std=1) # вектор с нормальным распределением"
      ],
      "metadata": {
        "id": "KFvsy6zGIVwq"
      },
      "execution_count": 21,
      "outputs": []
    },
    {
      "cell_type": "code",
      "source": [
        "x = torch.arange(4)                      # [0,1,2,3]             [0,end)\n",
        "x = torch.arange(2, 14, 3)               # [2,5,8,11]            [beg,end), step\n",
        "\n",
        "x = torch.randperm(10)                   # [8,6,9,3,5,0,1,4,7,2] - случ.перестановка\n",
        "x = torch.randint (1, 10, (2,3))         # 2x3 случ.целых из интервала [1...10)"
      ],
      "metadata": {
        "id": "YLpoMhpeInvP"
      },
      "execution_count": 22,
      "outputs": []
    },
    {
      "cell_type": "markdown",
      "source": [
        "## Операции над тензорами"
      ],
      "metadata": {
        "id": "jPeYkgpVQ5Td"
      }
    },
    {
      "cell_type": "markdown",
      "source": [
        "### Арифметические операции"
      ],
      "metadata": {
        "id": "_IChOi6ZSUyt"
      }
    },
    {
      "cell_type": "code",
      "source": [
        "x = torch.ones(2, 3).to(torch.int32)\n",
        "x"
      ],
      "metadata": {
        "id": "TZ69QBO3Q8PO",
        "outputId": "06de048d-e6c6-4bd0-ad05-21f5fc737100",
        "colab": {
          "base_uri": "https://localhost:8080/"
        }
      },
      "execution_count": 23,
      "outputs": [
        {
          "output_type": "execute_result",
          "data": {
            "text/plain": [
              "tensor([[1, 1, 1],\n",
              "        [1, 1, 1]], dtype=torch.int32)"
            ]
          },
          "metadata": {},
          "execution_count": 23
        }
      ]
    },
    {
      "cell_type": "code",
      "source": [
        "y = x * -1\n",
        "y"
      ],
      "metadata": {
        "id": "matiBGufQ8s7",
        "outputId": "fc9b63b6-5888-4165-eb9e-46fc3596adf4",
        "colab": {
          "base_uri": "https://localhost:8080/"
        }
      },
      "execution_count": 24,
      "outputs": [
        {
          "output_type": "execute_result",
          "data": {
            "text/plain": [
              "tensor([[-1, -1, -1],\n",
              "        [-1, -1, -1]], dtype=torch.int32)"
            ]
          },
          "metadata": {},
          "execution_count": 24
        }
      ]
    },
    {
      "cell_type": "code",
      "source": [
        "# x.add(y)\n",
        "x + y"
      ],
      "metadata": {
        "id": "_WwhKdEDQ8qg",
        "outputId": "1ca91cf0-6b70-4713-b5d2-8211829eba2f",
        "colab": {
          "base_uri": "https://localhost:8080/"
        }
      },
      "execution_count": 25,
      "outputs": [
        {
          "output_type": "execute_result",
          "data": {
            "text/plain": [
              "tensor([[0, 0, 0],\n",
              "        [0, 0, 0]], dtype=torch.int32)"
            ]
          },
          "metadata": {},
          "execution_count": 25
        }
      ]
    },
    {
      "cell_type": "code",
      "source": [
        "# x.sub(y)\n",
        "x - y"
      ],
      "metadata": {
        "id": "AHwX-dVQQ8n5",
        "outputId": "08be6c83-c5bb-4fcb-ad14-ccdbfc99dbc7",
        "colab": {
          "base_uri": "https://localhost:8080/"
        }
      },
      "execution_count": 26,
      "outputs": [
        {
          "output_type": "execute_result",
          "data": {
            "text/plain": [
              "tensor([[2, 2, 2],\n",
              "        [2, 2, 2]], dtype=torch.int32)"
            ]
          },
          "metadata": {},
          "execution_count": 26
        }
      ]
    },
    {
      "cell_type": "code",
      "source": [
        "# x.mul(y)\n",
        "x * y"
      ],
      "metadata": {
        "id": "UspLITsRRNKk",
        "outputId": "cc48dbe3-c0a0-4e2c-fb19-75c7eee51311",
        "colab": {
          "base_uri": "https://localhost:8080/"
        }
      },
      "execution_count": 27,
      "outputs": [
        {
          "output_type": "execute_result",
          "data": {
            "text/plain": [
              "tensor([[-1, -1, -1],\n",
              "        [-1, -1, -1]], dtype=torch.int32)"
            ]
          },
          "metadata": {},
          "execution_count": 27
        }
      ]
    },
    {
      "cell_type": "code",
      "source": [
        "# x.div(y)\n",
        "x / y"
      ],
      "metadata": {
        "id": "_QZR3rHwRNH1",
        "outputId": "fc5e90f0-d94b-4c87-b7a5-5225b54c6cc0",
        "colab": {
          "base_uri": "https://localhost:8080/"
        }
      },
      "execution_count": 28,
      "outputs": [
        {
          "output_type": "execute_result",
          "data": {
            "text/plain": [
              "tensor([[-1., -1., -1.],\n",
              "        [-1., -1., -1.]])"
            ]
          },
          "metadata": {},
          "execution_count": 28
        }
      ]
    },
    {
      "cell_type": "code",
      "source": [
        "x"
      ],
      "metadata": {
        "id": "4_L8GROTAg5p",
        "outputId": "f38d4475-0a88-490a-e016-1c664b089d0b",
        "colab": {
          "base_uri": "https://localhost:8080/"
        }
      },
      "execution_count": 30,
      "outputs": [
        {
          "output_type": "execute_result",
          "data": {
            "text/plain": [
              "tensor([[1, 1, 1],\n",
              "        [1, 1, 1]], dtype=torch.int32)"
            ]
          },
          "metadata": {},
          "execution_count": 30
        }
      ]
    },
    {
      "cell_type": "code",
      "source": [
        "a = x.clone().detach()\n",
        "a"
      ],
      "metadata": {
        "id": "F6GYk85GRNCd",
        "outputId": "9e5bade1-fe7c-4468-8436-31da2d443b32",
        "colab": {
          "base_uri": "https://localhost:8080/"
        }
      },
      "execution_count": 29,
      "outputs": [
        {
          "output_type": "execute_result",
          "data": {
            "text/plain": [
              "tensor([[1, 1, 1],\n",
              "        [1, 1, 1]], dtype=torch.int32)"
            ]
          },
          "metadata": {},
          "execution_count": 29
        }
      ]
    },
    {
      "cell_type": "code",
      "source": [
        "a.add_(y)\n",
        "a"
      ],
      "metadata": {
        "id": "Hle7pN7URM9B",
        "outputId": "5776fff9-af37-446a-9352-352e4f8aed84",
        "colab": {
          "base_uri": "https://localhost:8080/"
        }
      },
      "execution_count": 31,
      "outputs": [
        {
          "output_type": "execute_result",
          "data": {
            "text/plain": [
              "tensor([[0, 0, 0],\n",
              "        [0, 0, 0]], dtype=torch.int32)"
            ]
          },
          "metadata": {},
          "execution_count": 31
        }
      ]
    },
    {
      "cell_type": "code",
      "source": [
        "# `x` не изменился, потому что его \"склонировали\" в `a`\n",
        "x"
      ],
      "metadata": {
        "id": "oVwDJjiIRM5L",
        "outputId": "318cca4c-6025-4f1a-a026-7ac966b92f08",
        "colab": {
          "base_uri": "https://localhost:8080/"
        }
      },
      "execution_count": 32,
      "outputs": [
        {
          "output_type": "execute_result",
          "data": {
            "text/plain": [
              "tensor([[1, 1, 1],\n",
              "        [1, 1, 1]], dtype=torch.int32)"
            ]
          },
          "metadata": {},
          "execution_count": 32
        }
      ]
    },
    {
      "cell_type": "code",
      "source": [
        "y.abs_()\n",
        "y"
      ],
      "metadata": {
        "id": "mWoy3UIzTo6c",
        "outputId": "a6d12afd-a91b-4bc9-8bef-2624a4d812d4",
        "colab": {
          "base_uri": "https://localhost:8080/"
        }
      },
      "execution_count": 33,
      "outputs": [
        {
          "output_type": "execute_result",
          "data": {
            "text/plain": [
              "tensor([[1, 1, 1],\n",
              "        [1, 1, 1]], dtype=torch.int32)"
            ]
          },
          "metadata": {},
          "execution_count": 33
        }
      ]
    },
    {
      "cell_type": "markdown",
      "source": [
        "### Логические операции"
      ],
      "metadata": {
        "id": "ZomTfPPOSX-E"
      }
    },
    {
      "cell_type": "code",
      "source": [
        "z = torch.FloatTensor(\n",
        "    [\n",
        "     [-1, 1, 1],\n",
        "     [2, -1, -1]\n",
        "    ]\n",
        ")\n",
        "z"
      ],
      "metadata": {
        "id": "iK8Om9mbSbEC",
        "outputId": "5507226e-6a04-45ac-96d0-841b66261d8d",
        "colab": {
          "base_uri": "https://localhost:8080/"
        }
      },
      "execution_count": 34,
      "outputs": [
        {
          "output_type": "execute_result",
          "data": {
            "text/plain": [
              "tensor([[-1.,  1.,  1.],\n",
              "        [ 2., -1., -1.]])"
            ]
          },
          "metadata": {},
          "execution_count": 34
        }
      ]
    },
    {
      "cell_type": "code",
      "source": [
        "x > z"
      ],
      "metadata": {
        "id": "8Fo1v4h8SbA3",
        "outputId": "0428ae5f-8f86-4538-f22c-2da0bb40db99",
        "colab": {
          "base_uri": "https://localhost:8080/"
        }
      },
      "execution_count": 35,
      "outputs": [
        {
          "output_type": "execute_result",
          "data": {
            "text/plain": [
              "tensor([[ True, False, False],\n",
              "        [False,  True,  True]])"
            ]
          },
          "metadata": {},
          "execution_count": 35
        }
      ]
    },
    {
      "cell_type": "code",
      "source": [
        "x == z"
      ],
      "metadata": {
        "id": "vtlyovjfSa9c",
        "outputId": "0e00d5d5-eb01-4f63-e1e2-5d10ce2e45db",
        "colab": {
          "base_uri": "https://localhost:8080/"
        }
      },
      "execution_count": 36,
      "outputs": [
        {
          "output_type": "execute_result",
          "data": {
            "text/plain": [
              "tensor([[False,  True,  True],\n",
              "        [False, False, False]])"
            ]
          },
          "metadata": {},
          "execution_count": 36
        }
      ]
    },
    {
      "cell_type": "code",
      "source": [
        "x != z"
      ],
      "metadata": {
        "id": "9gkh_41fShdW",
        "outputId": "4ed27be2-0f06-4876-a5d2-e09d016fade2",
        "colab": {
          "base_uri": "https://localhost:8080/"
        }
      },
      "execution_count": 37,
      "outputs": [
        {
          "output_type": "execute_result",
          "data": {
            "text/plain": [
              "tensor([[ True, False, False],\n",
              "        [ True,  True,  True]])"
            ]
          },
          "metadata": {},
          "execution_count": 37
        }
      ]
    },
    {
      "cell_type": "code",
      "source": [
        "mask = (x > z)\n",
        "mask"
      ],
      "metadata": {
        "id": "VSwI2SniTQGD",
        "outputId": "2aecaaef-607f-4e91-bf79-4dcf9cc2286b",
        "colab": {
          "base_uri": "https://localhost:8080/"
        }
      },
      "execution_count": 38,
      "outputs": [
        {
          "output_type": "execute_result",
          "data": {
            "text/plain": [
              "tensor([[ True, False, False],\n",
              "        [False,  True,  True]])"
            ]
          },
          "metadata": {},
          "execution_count": 38
        }
      ]
    },
    {
      "cell_type": "code",
      "source": [
        "x[mask]"
      ],
      "metadata": {
        "id": "HA6NS7cFTQDB",
        "outputId": "e0e45515-28b0-4a86-84b9-76264b29b68e",
        "colab": {
          "base_uri": "https://localhost:8080/"
        }
      },
      "execution_count": 39,
      "outputs": [
        {
          "output_type": "execute_result",
          "data": {
            "text/plain": [
              "tensor([1, 1, 1], dtype=torch.int32)"
            ]
          },
          "metadata": {},
          "execution_count": 39
        }
      ]
    },
    {
      "cell_type": "markdown",
      "source": [
        "### Скалярное произведение"
      ],
      "metadata": {
        "id": "apimkJ3KT1oG"
      }
    },
    {
      "cell_type": "code",
      "source": [
        "x = torch.arange(1, 4).reshape(1, 3)\n",
        "x"
      ],
      "metadata": {
        "id": "kOVtWUbpT1Fs",
        "outputId": "8277d591-8eb2-4043-a7fb-91b7b8932954",
        "colab": {
          "base_uri": "https://localhost:8080/"
        }
      },
      "execution_count": 40,
      "outputs": [
        {
          "output_type": "execute_result",
          "data": {
            "text/plain": [
              "tensor([[1, 2, 3]])"
            ]
          },
          "metadata": {},
          "execution_count": 40
        }
      ]
    },
    {
      "cell_type": "code",
      "source": [
        "y = -1 * x\n",
        "y[0][1].abs_()\n",
        "y"
      ],
      "metadata": {
        "id": "-BjQcevEUXmA",
        "outputId": "021d0a84-74c4-4d4a-ad9c-198480d4af22",
        "colab": {
          "base_uri": "https://localhost:8080/"
        }
      },
      "execution_count": 41,
      "outputs": [
        {
          "output_type": "execute_result",
          "data": {
            "text/plain": [
              "tensor([[-1,  2, -3]])"
            ]
          },
          "metadata": {},
          "execution_count": 41
        }
      ]
    },
    {
      "cell_type": "code",
      "source": [
        "x @ y.T"
      ],
      "metadata": {
        "id": "2_meJ7uAUpJM",
        "outputId": "342ccbae-6c19-4fe4-d642-a19b449402ce",
        "colab": {
          "base_uri": "https://localhost:8080/"
        }
      },
      "execution_count": 42,
      "outputs": [
        {
          "output_type": "execute_result",
          "data": {
            "text/plain": [
              "tensor([[-6]])"
            ]
          },
          "metadata": {},
          "execution_count": 42
        }
      ]
    },
    {
      "cell_type": "code",
      "source": [
        "torch.mm(x, y.T)"
      ],
      "metadata": {
        "id": "zI4dgqAKUo1c",
        "outputId": "7093dd00-79fd-40b7-9484-cf1ea3f38f4f",
        "colab": {
          "base_uri": "https://localhost:8080/"
        }
      },
      "execution_count": 43,
      "outputs": [
        {
          "output_type": "execute_result",
          "data": {
            "text/plain": [
              "tensor([[-6]])"
            ]
          },
          "metadata": {},
          "execution_count": 43
        }
      ]
    },
    {
      "cell_type": "markdown",
      "source": [
        "## Приведение типов"
      ],
      "metadata": {
        "id": "uv4vo0VVKEms"
      }
    },
    {
      "cell_type": "code",
      "source": [
        "a = torch.IntTensor([1, 4, -2])\n",
        "a"
      ],
      "metadata": {
        "id": "z0M1XBjtL3Vq",
        "outputId": "215f1475-7cbb-4fb9-97b9-bfcbcfdd9ba8",
        "colab": {
          "base_uri": "https://localhost:8080/"
        }
      },
      "execution_count": 44,
      "outputs": [
        {
          "output_type": "execute_result",
          "data": {
            "text/plain": [
              "tensor([ 1,  4, -2], dtype=torch.int32)"
            ]
          },
          "metadata": {},
          "execution_count": 44
        }
      ]
    },
    {
      "cell_type": "code",
      "source": [
        "a = a.type_as(torch.HalfTensor())\n",
        "a"
      ],
      "metadata": {
        "id": "bQSj3redKE72",
        "outputId": "6f9171bb-05aa-4375-e9f1-ffeb071c7352",
        "colab": {
          "base_uri": "https://localhost:8080/"
        }
      },
      "execution_count": 45,
      "outputs": [
        {
          "output_type": "execute_result",
          "data": {
            "text/plain": [
              "tensor([ 1.,  4., -2.], dtype=torch.float16)"
            ]
          },
          "metadata": {},
          "execution_count": 45
        }
      ]
    },
    {
      "cell_type": "code",
      "source": [
        "a = a.to(torch.int32)\n",
        "a"
      ],
      "metadata": {
        "id": "D5-eJyVNMfrc",
        "outputId": "08bce162-0e22-4592-90f2-543731d142a5",
        "colab": {
          "base_uri": "https://localhost:8080/"
        }
      },
      "execution_count": 46,
      "outputs": [
        {
          "output_type": "execute_result",
          "data": {
            "text/plain": [
              "tensor([ 1,  4, -2], dtype=torch.int32)"
            ]
          },
          "metadata": {},
          "execution_count": 46
        }
      ]
    }
  ]
}